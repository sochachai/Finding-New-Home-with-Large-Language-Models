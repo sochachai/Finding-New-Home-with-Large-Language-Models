{
 "cells": [
  {
   "cell_type": "code",
   "execution_count": 10,
   "id": "1757c045-14a2-416b-818a-9ecfa025170e",
   "metadata": {},
   "outputs": [],
   "source": [
    "import os\n",
    "os.environ['LANGCHAIN_TRACING_V2'] = 'true'\n",
    "os.environ['LANGCHAIN_ENDPOINT'] = 'https://api.smith.langchain.com'\n",
    "os.environ[\"OPENAI_API_KEY\"] = \"XXX\"\n",
    "os.environ[\"LANGCHAIN_API_KEY\"] = \"XXX\""
   ]
  },
  {
   "cell_type": "code",
   "execution_count": 22,
   "id": "77f2e6b3-c8de-4dde-ae36-f86476a8e784",
   "metadata": {},
   "outputs": [
    {
     "data": {
      "text/plain": [
       "\"Here is a description of the property based on the details provided:\\n\\nThis is a condo unit located in Renton. It was built in 1991, so it's an established property but not brand new construction. The condo has an in-unit laundry area with a dryer, which is a nice convenience.\\n\\nThe cost of the condo is $396 per square foot, which would need to be multiplied by the total square footage to determine the sale price. The homeowners association (HOA) fees are $593 per month. HOA fees typically cover maintenance and amenities for the condo complex.\\n\\nThe unit comes with 1 parking space, which is important for condo living. Not having to search for street parking is a major perk.\\n\\nOverall, this seems to be a reasonably priced condo in Renton with good amenities like in-unit laundry and covered parking. The age of just over 30 years old means it's an established complex, while the HOA fees suggest it may have some nice community features and amenities to offset that monthly cost.\""
      ]
     },
     "execution_count": 22,
     "metadata": {},
     "output_type": "execute_result"
    }
   ],
   "source": [
    "from langchain.prompts import ChatPromptTemplate\n",
    "from langchain_anthropic import ChatAnthropic\n",
    "from langchain_core.output_parsers import StrOutputParser\n",
    "from datetime import date\n",
    "chat_model = ChatAnthropic(\n",
    "    model=\"claude-3-sonnet-20240229\",\n",
    "    temperature=0,\n",
    "    # get key from https://console.anthropic.com/dashboard\n",
    "    api_key=\"XXX\"\n",
    ")\n",
    "prompt = ChatPromptTemplate.from_messages([\n",
    "    (\"system\", 'You know that the details of a house is given by \"{details}\".'),\n",
    "    (\"human\", \"{question}\")\n",
    "])\n",
    "chain = prompt | chat_model | StrOutputParser()\n",
    "chain.invoke({\n",
    "    \"question\": \"Write a description of the property\",\n",
    "    \n",
    "    \"details\": 'Condo Built in 1991 $396 per sq ft 1 parking space In-unit laundry (dryer) $593 monthly HOA fee Renton'\n",
    "})"
   ]
  },
  {
   "cell_type": "code",
   "execution_count": 26,
   "id": "100d064b-ef7f-4423-9214-c259eee33d96",
   "metadata": {},
   "outputs": [
    {
     "name": "stdout",
     "output_type": "stream",
     "text": [
      "Requirement already satisfied: langchain-openai in /opt/anaconda3/lib/python3.11/site-packages (0.1.8)\n",
      "Requirement already satisfied: langchain-core<0.3,>=0.2.2 in /opt/anaconda3/lib/python3.11/site-packages (from langchain-openai) (0.2.6)\n",
      "Requirement already satisfied: openai<2.0.0,>=1.26.0 in /opt/anaconda3/lib/python3.11/site-packages (from langchain-openai) (1.30.5)\n",
      "Requirement already satisfied: tiktoken<1,>=0.7 in /opt/anaconda3/lib/python3.11/site-packages (from langchain-openai) (0.7.0)\n",
      "Requirement already satisfied: PyYAML>=5.3 in /opt/anaconda3/lib/python3.11/site-packages (from langchain-core<0.3,>=0.2.2->langchain-openai) (6.0.1)\n",
      "Requirement already satisfied: jsonpatch<2.0,>=1.33 in /opt/anaconda3/lib/python3.11/site-packages (from langchain-core<0.3,>=0.2.2->langchain-openai) (1.33)\n",
      "Requirement already satisfied: langsmith<0.2.0,>=0.1.75 in /opt/anaconda3/lib/python3.11/site-packages (from langchain-core<0.3,>=0.2.2->langchain-openai) (0.1.77)\n",
      "Requirement already satisfied: packaging<25,>=23.2 in /opt/anaconda3/lib/python3.11/site-packages (from langchain-core<0.3,>=0.2.2->langchain-openai) (23.2)\n",
      "Requirement already satisfied: pydantic<3,>=1 in /opt/anaconda3/lib/python3.11/site-packages (from langchain-core<0.3,>=0.2.2->langchain-openai) (1.10.12)\n",
      "Requirement already satisfied: tenacity<9.0.0,>=8.1.0 in /opt/anaconda3/lib/python3.11/site-packages (from langchain-core<0.3,>=0.2.2->langchain-openai) (8.2.3)\n",
      "Requirement already satisfied: anyio<5,>=3.5.0 in /opt/anaconda3/lib/python3.11/site-packages (from openai<2.0.0,>=1.26.0->langchain-openai) (4.2.0)\n",
      "Requirement already satisfied: distro<2,>=1.7.0 in /opt/anaconda3/lib/python3.11/site-packages (from openai<2.0.0,>=1.26.0->langchain-openai) (1.8.0)\n",
      "Requirement already satisfied: httpx<1,>=0.23.0 in /opt/anaconda3/lib/python3.11/site-packages (from openai<2.0.0,>=1.26.0->langchain-openai) (0.27.0)\n",
      "Requirement already satisfied: sniffio in /opt/anaconda3/lib/python3.11/site-packages (from openai<2.0.0,>=1.26.0->langchain-openai) (1.3.0)\n",
      "Requirement already satisfied: tqdm>4 in /opt/anaconda3/lib/python3.11/site-packages (from openai<2.0.0,>=1.26.0->langchain-openai) (4.65.0)\n",
      "Requirement already satisfied: typing-extensions<5,>=4.7 in /opt/anaconda3/lib/python3.11/site-packages (from openai<2.0.0,>=1.26.0->langchain-openai) (4.9.0)\n",
      "Requirement already satisfied: regex>=2022.1.18 in /opt/anaconda3/lib/python3.11/site-packages (from tiktoken<1,>=0.7->langchain-openai) (2023.10.3)\n",
      "Requirement already satisfied: requests>=2.26.0 in /opt/anaconda3/lib/python3.11/site-packages (from tiktoken<1,>=0.7->langchain-openai) (2.31.0)\n",
      "Requirement already satisfied: idna>=2.8 in /opt/anaconda3/lib/python3.11/site-packages (from anyio<5,>=3.5.0->openai<2.0.0,>=1.26.0->langchain-openai) (3.4)\n",
      "Requirement already satisfied: certifi in /opt/anaconda3/lib/python3.11/site-packages (from httpx<1,>=0.23.0->openai<2.0.0,>=1.26.0->langchain-openai) (2024.2.2)\n",
      "Requirement already satisfied: httpcore==1.* in /opt/anaconda3/lib/python3.11/site-packages (from httpx<1,>=0.23.0->openai<2.0.0,>=1.26.0->langchain-openai) (1.0.4)\n",
      "Requirement already satisfied: h11<0.15,>=0.13 in /opt/anaconda3/lib/python3.11/site-packages (from httpcore==1.*->httpx<1,>=0.23.0->openai<2.0.0,>=1.26.0->langchain-openai) (0.14.0)\n",
      "Requirement already satisfied: jsonpointer>=1.9 in /opt/anaconda3/lib/python3.11/site-packages (from jsonpatch<2.0,>=1.33->langchain-core<0.3,>=0.2.2->langchain-openai) (2.1)\n",
      "Requirement already satisfied: orjson<4.0.0,>=3.9.14 in /opt/anaconda3/lib/python3.11/site-packages (from langsmith<0.2.0,>=0.1.75->langchain-core<0.3,>=0.2.2->langchain-openai) (3.9.15)\n",
      "Requirement already satisfied: charset-normalizer<4,>=2 in /opt/anaconda3/lib/python3.11/site-packages (from requests>=2.26.0->tiktoken<1,>=0.7->langchain-openai) (2.0.4)\n",
      "Requirement already satisfied: urllib3<3,>=1.21.1 in /opt/anaconda3/lib/python3.11/site-packages (from requests>=2.26.0->tiktoken<1,>=0.7->langchain-openai) (2.0.7)\n"
     ]
    },
    {
     "data": {
      "text/plain": [
       "\"This charming 2 bedroom, 1 bath condo in Renton is the perfect addition to your investment portfolio! Built in 1991, this unit boasts a spacious layout and in-unit laundry with a dryer included. With a monthly HOA fee of $593, water, garbage, and sewer included, and 1 parking space, this property offers convenience and affordability. Don't miss out on this opportunity to own a piece of Renton real estate in a prime location near shops, restaurants, and easy commute access. Contact us today to schedule a showing!\""
      ]
     },
     "execution_count": 26,
     "metadata": {},
     "output_type": "execute_result"
    }
   ],
   "source": [
    "# import prompt template\n",
    "!pip install -U langchain-openai\n",
    "from langchain_openai import ChatOpenAI\n",
    "from langchain import PromptTemplate\n",
    "from langchain import chat_models\n",
    "chat_model = chat_models.ChatOpenAI(model=\"gpt-3.5-turbo\")\n",
    "# create the prompt, here we use multiple inputs\n",
    "prompt = PromptTemplate(\n",
    "    template=\"\"\"\"/\n",
    "You know the details of the property as {details}./\n",
    "Write an advertising summary of the property that is similar to {sample_description}\n",
    "\"\"\",\n",
    "    input_variables=[\"details\", \"sample_description\"]\n",
    ")\n",
    "\n",
    "chain = prompt | chat_model | StrOutputParser()\n",
    "chain.invoke({\n",
    "    \"sample_description\":\"Attractive 3 bed, 2 bath rambler makes a great addition to any investment portfolio! Stable rental contract in place until 4/30/25 at $2,795/month. Remodeled open kitchen with new cabinets, granite counters, stainless appliances, breakfast bar & hardwoods throughout. Ideal floor plan features 3 spacious bedrooms, open kitchen, dining space, large living room with fireplace and sliding doors to covered patio. Enjoy large, level, usable lot with additional storage space. Washer & Dryer included. Great area near downtown Renton & Southcenter shops and restaurants. Easy commute North and South.\",\n",
    "    \"details\": 'Condo Built in 1991 $396 per sq ft 1 parking space In-unit laundry (dryer) $593 monthly HOA fee Renton 2 bedroom / 1 bath water, garbage and sewer '\n",
    "})"
   ]
  }
 ],
 "metadata": {
  "kernelspec": {
   "display_name": "Python 3 (ipykernel)",
   "language": "python",
   "name": "python3"
  },
  "language_info": {
   "codemirror_mode": {
    "name": "ipython",
    "version": 3
   },
   "file_extension": ".py",
   "mimetype": "text/x-python",
   "name": "python",
   "nbconvert_exporter": "python",
   "pygments_lexer": "ipython3",
   "version": "3.11.7"
  }
 },
 "nbformat": 4,
 "nbformat_minor": 5
}
